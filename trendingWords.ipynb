{
 "metadata": {
  "name": ""
 },
 "nbformat": 3,
 "nbformat_minor": 0,
 "worksheets": [
  {
   "cells": [
    {
     "cell_type": "code",
     "collapsed": false,
     "input": [
      "from __future__ import print_function\n",
      "import numpy as np\n",
      "import pandas as pd\n",
      "import nltk\n",
      "import collections\n",
      "import pickle"
     ],
     "language": "python",
     "metadata": {},
     "outputs": [],
     "prompt_number": 1
    },
    {
     "cell_type": "markdown",
     "metadata": {},
     "source": [
      "<h2>Create pickle</h2>"
     ]
    },
    {
     "cell_type": "code",
     "collapsed": false,
     "input": [
      "comments_df = pd.read_csv(\"may2015equallyspaced.csv\")\n",
      "comments_df = comments_df.drop(['subreddit_id', 'name', 'score_hidden', 'author_flair_css_class', \\\n",
      "                                'author_flair_text', 'removal_reason', 'gilded', 'archived', 'downs', 'score', \\\n",
      "                                'retrieved_on', 'distinguished', 'edited', 'controversiality', 'parent_id'], axis=1)"
     ],
     "language": "python",
     "metadata": {},
     "outputs": [],
     "prompt_number": 59
    },
    {
     "cell_type": "code",
     "collapsed": false,
     "input": [
      "may_start = 1430438400"
     ],
     "language": "python",
     "metadata": {},
     "outputs": [],
     "prompt_number": 60
    },
    {
     "cell_type": "code",
     "collapsed": false,
     "input": [
      "sample_df = comments_df #It's the big one!\n",
      "len(sample_df)"
     ],
     "language": "python",
     "metadata": {},
     "outputs": [
      {
       "metadata": {},
       "output_type": "pyout",
       "prompt_number": 106,
       "text": [
        "272522"
       ]
      }
     ],
     "prompt_number": 106
    },
    {
     "cell_type": "code",
     "collapsed": false,
     "input": [
      "daily_dfs = [(sample_df[(sample_df.created_utc >= may_start+i*(24*60*60)) & \\\n",
      "                                    (sample_df.created_utc < may_start+(i+1)*(24*60*60))]) for i in range(0,31)]"
     ],
     "language": "python",
     "metadata": {},
     "outputs": [],
     "prompt_number": 107
    },
    {
     "cell_type": "code",
     "collapsed": false,
     "input": [
      "print([len(x) for x in daily_dfs])"
     ],
     "language": "python",
     "metadata": {},
     "outputs": [
      {
       "output_type": "stream",
       "stream": "stdout",
       "text": [
        "[9244, 7687, 7652, 9304, 9386, 9724, 9567, 9109, 7761, 7826, 9119, 9215, 9604, 9291, 9079, 7581, 7851, 9023, 9473, 9571, 9262, 8671, 7407, 7599, 8339, 9486, 9599, 9750, 9609, 7688, 8045]\n"
       ]
      }
     ],
     "prompt_number": 108
    },
    {
     "cell_type": "code",
     "collapsed": false,
     "input": [
      "daily_wordlists = []\n",
      "for daily_df in daily_dfs:\n",
      "    daily_wordlist = []\n",
      "    for comment in daily_df.body:\n",
      "        daily_wordlist = daily_wordlist + nltk.word_tokenize(str(comment).decode('utf-8').lower().replace('\\\\n', ' '))\n",
      "    daily_wordlists.append(daily_wordlist)"
     ],
     "language": "python",
     "metadata": {},
     "outputs": [],
     "prompt_number": 109
    },
    {
     "cell_type": "code",
     "collapsed": false,
     "input": [
      "all_words = []\n",
      "for daily_wordlist in daily_wordlists:\n",
      "    all_words = all_words + daily_wordlist\n",
      "all_words = set(all_words)\n",
      "print(list(all_words)[0:100], end=' ')\n",
      "print(len(all_words))"
     ],
     "language": "python",
     "metadata": {},
     "outputs": [
      {
       "output_type": "stream",
       "stream": "stdout",
       "text": [
        "[u'mdbg', u'//danielleorama.tumblr.com/thecats', u'gai', u'7cr40', u'jamesolmos', u'life/aura', u'gag', u'woods', u'clotted', u'spiders', u'gavan', u'fixxxer', u'woody', u'trawling', u'//www.amazon.com/msi-computer-corp-motherboards-z77a-g45/dp/b007qwi9ty', u'comically', u'*wayyyyy*', u'|**6', u'canes', u'svinger', u'//hotwiferio.com/new-tour/', u'egyetem', u'|**9', u'igual', u'tarkoitan', u'shadowdancer', u'the_arby', u'bubbies', u'rickman', u'us.~~', u'steamanalyst', u'//www.reddit.com/r/meditation/comments/2i875y/meditation_will_improve_your_life/', u'/r/rwby', u'on-ramp', u\"that's_my_fetish.jpg\", u'wood*', u'replacer', u'//www.reddit.com/r/perth/comments/23cy4j/abandonedhaunted_sites_in_perth/', u'\\u3082\\u3046\\u65e2\\u306b\\u3058\\u3085\\u3046\\u3076\\u3093\\u30af\\u30bd\\u56fd\\u5bb6\\u306b\\u306a\\u3063\\u3066\\u308b\\u306e\\u306b\\u307e\\u3060\\u3082\\u3063\\u3068\\u9177\\u304f\\u306a\\u308b\\u306e\\u304b\\u3088\\u2026', u'//www.cbc.ca/news/canada/cse-tracks-millions-of-downloads-daily-snowden-documents-1.2930120', u'replaces', u'schizo-affective', u'ravian', u'bringing', u'jrpg', u'//storify.com/choperius/garry-kasparov-talking-e-sports', u'wooded', u'voorgekauwde', u'grueling', u'wooden', u'598s', u'wednesday', u'-planet', u'off-the-street', u'non-experienced', u'chameleons', u'elgar', u'//uk.pcpartpicker.com/part/cooler-master-case-cos5000kwn1', u'//www.dotabuff.com/matches/1466368623', u'immunities', u'day_before=', u'mdbp', u'bbqs', u'fuera', u'geostrike', u'thrace', u'fuere', u'equipment/calculation', u'convo', u'snuggles', u'\\U0001f60f', u'270', u'271', u'deadheads', u'273', u'274', u'275', u'276', u'277', u'consenting', u'279', u'players..it', u'targa', u'snuggled', u'/u/theravingredditor', u'mikakunin', u'1301/1302', u'//megalodon.jp/2015-0524-0731-42/www.reddit.com/r/subredditdrama/comments/36zf8o/downvotes_fly_when_rnews_discusses_george/', u'*actual*', u'//twitter.com/sexualgif/status/594920683131543552', u'mars*', u'politiek', u'opportunists', u'//www.reddit.com/r/japan_anime/wiki/index', u'bonsai4me', u'warmongering', u'usenet', u'name=tropical', u'numeral', u'shti'] 248906\n"
       ]
      }
     ],
     "prompt_number": 110
    },
    {
     "cell_type": "code",
     "collapsed": false,
     "input": [
      "#half a day ish\n",
      "daily_counts = []\n",
      "for i in range(0,31):\n",
      "    counts = collections.Counter(daily_wordlists[i])\n",
      "    counts.update({word: 0 for word in all_words if word not in freqs.keys()})\n",
      "    daily_counts.append(freqs)\n",
      "    print(i)"
     ],
     "language": "python",
     "metadata": {},
     "outputs": [
      {
       "output_type": "stream",
       "stream": "stdout",
       "text": [
        "0\n",
        "1"
       ]
      },
      {
       "output_type": "stream",
       "stream": "stdout",
       "text": [
        "\n",
        "2"
       ]
      },
      {
       "output_type": "stream",
       "stream": "stdout",
       "text": [
        "\n",
        "3"
       ]
      },
      {
       "output_type": "stream",
       "stream": "stdout",
       "text": [
        "\n",
        "4"
       ]
      },
      {
       "output_type": "stream",
       "stream": "stdout",
       "text": [
        "\n",
        "5"
       ]
      },
      {
       "output_type": "stream",
       "stream": "stdout",
       "text": [
        "\n",
        "6"
       ]
      },
      {
       "output_type": "stream",
       "stream": "stdout",
       "text": [
        "\n",
        "7"
       ]
      },
      {
       "output_type": "stream",
       "stream": "stdout",
       "text": [
        "\n",
        "8"
       ]
      },
      {
       "output_type": "stream",
       "stream": "stdout",
       "text": [
        "\n",
        "9"
       ]
      },
      {
       "output_type": "stream",
       "stream": "stdout",
       "text": [
        "\n",
        "10"
       ]
      },
      {
       "output_type": "stream",
       "stream": "stdout",
       "text": [
        "\n",
        "11"
       ]
      },
      {
       "output_type": "stream",
       "stream": "stdout",
       "text": [
        "\n",
        "12"
       ]
      },
      {
       "output_type": "stream",
       "stream": "stdout",
       "text": [
        "\n",
        "13"
       ]
      },
      {
       "output_type": "stream",
       "stream": "stdout",
       "text": [
        "\n",
        "14"
       ]
      },
      {
       "output_type": "stream",
       "stream": "stdout",
       "text": [
        "\n",
        "15"
       ]
      },
      {
       "output_type": "stream",
       "stream": "stdout",
       "text": [
        "\n",
        "16"
       ]
      },
      {
       "output_type": "stream",
       "stream": "stdout",
       "text": [
        "\n",
        "17"
       ]
      },
      {
       "output_type": "stream",
       "stream": "stdout",
       "text": [
        "\n",
        "18"
       ]
      },
      {
       "output_type": "stream",
       "stream": "stdout",
       "text": [
        "\n",
        "19"
       ]
      },
      {
       "output_type": "stream",
       "stream": "stdout",
       "text": [
        "\n",
        "20"
       ]
      },
      {
       "output_type": "stream",
       "stream": "stdout",
       "text": [
        "\n",
        "21"
       ]
      },
      {
       "output_type": "stream",
       "stream": "stdout",
       "text": [
        "\n",
        "22"
       ]
      },
      {
       "output_type": "stream",
       "stream": "stdout",
       "text": [
        "\n",
        "23"
       ]
      },
      {
       "output_type": "stream",
       "stream": "stdout",
       "text": [
        "\n",
        "24"
       ]
      },
      {
       "output_type": "stream",
       "stream": "stdout",
       "text": [
        "\n",
        "25"
       ]
      },
      {
       "output_type": "stream",
       "stream": "stdout",
       "text": [
        "\n",
        "26"
       ]
      },
      {
       "output_type": "stream",
       "stream": "stdout",
       "text": [
        "\n",
        "27"
       ]
      },
      {
       "output_type": "stream",
       "stream": "stdout",
       "text": [
        "\n",
        "28"
       ]
      },
      {
       "output_type": "stream",
       "stream": "stdout",
       "text": [
        "\n",
        "29"
       ]
      },
      {
       "output_type": "stream",
       "stream": "stdout",
       "text": [
        "\n",
        "30"
       ]
      },
      {
       "output_type": "stream",
       "stream": "stdout",
       "text": [
        "\n"
       ]
      }
     ],
     "prompt_number": 127
    },
    {
     "cell_type": "code",
     "collapsed": false,
     "input": [
      "with open('dailywordcounts.pickle', 'wb') as f:\n",
      "    pickle.dump(daily_counts, f)"
     ],
     "language": "python",
     "metadata": {},
     "outputs": [],
     "prompt_number": 136
    },
    {
     "cell_type": "code",
     "collapsed": false,
     "input": [
      "print([daily_counts[day]['pacquiao'] for day in range(0,31)])"
     ],
     "language": "python",
     "metadata": {},
     "outputs": [
      {
       "output_type": "stream",
       "stream": "stdout",
       "text": [
        "[2, 78, 20, 9, 12, 5, 0, 0, 1, 1, 0, 1, 1, 1, 0, 0, 0, 0, 0, 1, 0, 0, 0, 0, 0, 0, 0, 0, 0, 0, 0]\n"
       ]
      }
     ],
     "prompt_number": 41
    },
    {
     "cell_type": "markdown",
     "metadata": {},
     "source": [
      "<h2>Use pickle</h2>"
     ]
    },
    {
     "cell_type": "code",
     "collapsed": false,
     "input": [
      "with open('dailywordcounts.pickle', 'rb') as f:\n",
      "    daily_counts = pickle.load(f)"
     ],
     "language": "python",
     "metadata": {},
     "outputs": [],
     "prompt_number": 2
    },
    {
     "cell_type": "markdown",
     "metadata": {},
     "source": [
      "<h3>Linear, count version:</h3>"
     ]
    },
    {
     "cell_type": "code",
     "collapsed": false,
     "input": [
      "#Maybe take logs here, since any doubling in daily count should be important regardless of what that count is\n",
      "#(except when count is very small because noise creeps in)\n",
      "print([daily_counts[day]['bernie'] for day in range(0,31)])"
     ],
     "language": "python",
     "metadata": {},
     "outputs": [
      {
       "output_type": "stream",
       "stream": "stdout",
       "text": [
        "[16, 4, 13, 17, 19, 11, 4, 5, 3, 2, 2, 1, 7, 9, 0, 1, 1, 1, 14, 10, 2, 4, 2, 5, 4, 2, 4, 3, 10, 3, 4]\n"
       ]
      }
     ],
     "prompt_number": 4
    },
    {
     "cell_type": "code",
     "collapsed": false,
     "input": [
      "def make_differences(daily_values):\n",
      "    daily_count_differences = []\n",
      "    for i in range(0,30):\n",
      "        count_differences = {word : (daily_values[i+1][word] - daily_values[i][word]) \\\n",
      "                             for word in daily_values[0].keys()}\n",
      "        sorted_cd = collections.OrderedDict(sorted(count_differences.items(), key=lambda x: x[1], reverse=True))\n",
      "        daily_count_differences.append(sorted_cd)\n",
      "        print(i, end=' ')\n",
      "    return daily_count_differences"
     ],
     "language": "python",
     "metadata": {},
     "outputs": [],
     "prompt_number": 3
    },
    {
     "cell_type": "code",
     "collapsed": false,
     "input": [
      "dc_diff = make_differences(daily_counts)"
     ],
     "language": "python",
     "metadata": {},
     "outputs": [
      {
       "output_type": "stream",
       "stream": "stdout",
       "text": [
        "0 1"
       ]
      },
      {
       "output_type": "stream",
       "stream": "stdout",
       "text": [
        " 2"
       ]
      },
      {
       "output_type": "stream",
       "stream": "stdout",
       "text": [
        " 3"
       ]
      },
      {
       "output_type": "stream",
       "stream": "stdout",
       "text": [
        " 4"
       ]
      },
      {
       "output_type": "stream",
       "stream": "stdout",
       "text": [
        " 5"
       ]
      },
      {
       "output_type": "stream",
       "stream": "stdout",
       "text": [
        " 6"
       ]
      },
      {
       "output_type": "stream",
       "stream": "stdout",
       "text": [
        " 7"
       ]
      },
      {
       "output_type": "stream",
       "stream": "stdout",
       "text": [
        " 8"
       ]
      },
      {
       "output_type": "stream",
       "stream": "stdout",
       "text": [
        " 9"
       ]
      },
      {
       "output_type": "stream",
       "stream": "stdout",
       "text": [
        " 10"
       ]
      },
      {
       "output_type": "stream",
       "stream": "stdout",
       "text": [
        " 11"
       ]
      },
      {
       "output_type": "stream",
       "stream": "stdout",
       "text": [
        " 12"
       ]
      },
      {
       "output_type": "stream",
       "stream": "stdout",
       "text": [
        " 13"
       ]
      },
      {
       "output_type": "stream",
       "stream": "stdout",
       "text": [
        " 14"
       ]
      },
      {
       "output_type": "stream",
       "stream": "stdout",
       "text": [
        " 15"
       ]
      },
      {
       "output_type": "stream",
       "stream": "stdout",
       "text": [
        " 16"
       ]
      },
      {
       "output_type": "stream",
       "stream": "stdout",
       "text": [
        " 17"
       ]
      },
      {
       "output_type": "stream",
       "stream": "stdout",
       "text": [
        " 18"
       ]
      },
      {
       "output_type": "stream",
       "stream": "stdout",
       "text": [
        " 19"
       ]
      },
      {
       "output_type": "stream",
       "stream": "stdout",
       "text": [
        " 20"
       ]
      },
      {
       "output_type": "stream",
       "stream": "stdout",
       "text": [
        " 21"
       ]
      },
      {
       "output_type": "stream",
       "stream": "stdout",
       "text": [
        " 22"
       ]
      },
      {
       "output_type": "stream",
       "stream": "stdout",
       "text": [
        " 23"
       ]
      },
      {
       "output_type": "stream",
       "stream": "stdout",
       "text": [
        " 24"
       ]
      },
      {
       "output_type": "stream",
       "stream": "stdout",
       "text": [
        " 25"
       ]
      },
      {
       "output_type": "stream",
       "stream": "stdout",
       "text": [
        " 26"
       ]
      },
      {
       "output_type": "stream",
       "stream": "stdout",
       "text": [
        " 27"
       ]
      },
      {
       "output_type": "stream",
       "stream": "stdout",
       "text": [
        " 28"
       ]
      },
      {
       "output_type": "stream",
       "stream": "stdout",
       "text": [
        " 29"
       ]
      },
      {
       "output_type": "stream",
       "stream": "stdout",
       "text": [
        " "
       ]
      }
     ],
     "prompt_number": 56
    },
    {
     "cell_type": "code",
     "collapsed": false,
     "input": [
      "print([dc_diff[day]['pacquiao'] for day in range(0,30)])"
     ],
     "language": "python",
     "metadata": {},
     "outputs": [
      {
       "output_type": "stream",
       "stream": "stdout",
       "text": [
        "[76, -58, -11, 3, -7, -5, 0, 1, 0, -1, 1, 0, 0, -1, 0, 0, 0, 0, 1, -1, 0, 0, 0, 0, 0, 0, 0, 0, 0, 0]\n"
       ]
      }
     ],
     "prompt_number": 58
    },
    {
     "cell_type": "code",
     "collapsed": false,
     "input": [
      "#May 8th, funny: https://www.reddit.com/r/StLouisRams/comments/35ced0/in_light_of_the_recent_news_lets_start_fucking_up/\n",
      "def print_trends(differences, per_day=5, end_day=31, show_fallers=True):\n",
      "    for i in range(0,end_day-1):\n",
      "        \n",
      "        print(\"\\nMay {} to May {} risers:\".format(str(i+1), str(i+2)))\n",
      "        for pair in differences[i].items()[:per_day]:\n",
      "            print(pair)\n",
      "        if(show_fallers):\n",
      "            print(\"\\nMay {} to May {} fallers:\".format(str(i+1), str(i+2)))\n",
      "            for pair in differences[i].items()[len(differences[i])-per_day:]:\n",
      "                print(pair)"
     ],
     "language": "python",
     "metadata": {},
     "outputs": [],
     "prompt_number": 22
    },
    {
     "cell_type": "code",
     "collapsed": false,
     "input": [
      "#It seems like these are mostly just reflecting the overall daily word count changes (due to weekends etc).\n",
      "#Taking logs and using frequencies instead of counts should both help fix this\n",
      "print_trends(dc_diff, end_day=10)"
     ],
     "language": "python",
     "metadata": {},
     "outputs": [
      {
       "output_type": "stream",
       "stream": "stdout",
       "text": [
        "\n",
        "May 1 to May 2 risers:\n",
        "(u'https', 110)"
       ]
      },
      {
       "output_type": "stream",
       "stream": "stdout",
       "text": [
        "\n",
        "(u'#', 98)\n",
        "(u'watch', 94)\n",
        "(u'mayweather', 80)\n",
        "(u'//mayweather-vs-pacquiao-livestream.com/', 78)\n",
        "\n",
        "May 1 to May 2 fallers:\n",
        "(u'to', -1543)"
       ]
      },
      {
       "output_type": "stream",
       "stream": "stdout",
       "text": [
        "\n",
        "(u'i', -2116)\n",
        "(u',', -2132)\n",
        "(u'the', -2461)\n",
        "(u'.', -3222)\n",
        "\n",
        "May 2 to May 3 risers:\n",
        "(u',', 321)"
       ]
      },
      {
       "output_type": "stream",
       "stream": "stdout",
       "text": [
        "\n",
        "(u'.', 298)\n",
        "(u'the', 217)\n",
        "(u'is', 200)\n",
        "(u'that', 161)\n",
        "\n",
        "May 2 to May 3 fallers:\n",
        "(u'?', -163)"
       ]
      },
      {
       "output_type": "stream",
       "stream": "stdout",
       "text": [
        "\n",
        "(u'https', -167)\n",
        "(u':', -200)\n",
        "(u'(', -265)\n",
        "(u')', -289)\n",
        "\n",
        "May 3 to May 4 risers:\n",
        "(u'.', 4277)"
       ]
      },
      {
       "output_type": "stream",
       "stream": "stdout",
       "text": [
        "\n",
        "(u'the', 3212)\n",
        "(u',', 3101)\n",
        "(u'to', 2252)\n",
        "(u'a', 1897)\n",
        "\n",
        "May 3 to May 4 fallers:\n",
        "(u'manny', -32)"
       ]
      },
      {
       "output_type": "stream",
       "stream": "stdout",
       "text": [
        "\n",
        "(u'~', -42)\n",
        "(u'mayweather', -55)\n",
        "(u'boxing', -56)\n",
        "(u'fight', -79)\n",
        "\n",
        "May 4 to May 5 risers:\n",
        "(u'.', 231)"
       ]
      },
      {
       "output_type": "stream",
       "stream": "stdout",
       "text": [
        "\n",
        "(u\"'s\", 184)\n",
        "(u',', 183)\n",
        "(u'``', 159)\n",
        "(u\"''\", 130)\n",
        "\n",
        "May 4 to May 5 fallers:\n",
        "(u'your', -112)"
       ]
      },
      {
       "output_type": "stream",
       "stream": "stdout",
       "text": [
        "\n",
        "(u'deleted', -126)\n",
        "(u'he', -147)\n",
        "(u'[', -207)\n",
        "(u']', -210)\n",
        "\n",
        "May 5 to May 6 risers:\n",
        "(u'the', 2665)"
       ]
      },
      {
       "output_type": "stream",
       "stream": "stdout",
       "text": [
        "\n",
        "(u'i', 443)\n",
        "(u'was', 312)\n",
        "(u'a', 208)\n",
        "(u'.', 191)\n",
        "\n",
        "May 5 to May 6 fallers:\n",
        "(u'there', -111)"
       ]
      },
      {
       "output_type": "stream",
       "stream": "stdout",
       "text": [
        "\n",
        "(u'be', -134)\n",
        "(u'|', -145)\n",
        "(u'that', -174)\n",
        "(u\"'s\", -346)\n",
        "\n",
        "May 6 to May 7 risers:\n",
        "(u'to', 294)"
       ]
      },
      {
       "output_type": "stream",
       "stream": "stdout",
       "text": [
        "\n",
        "(u\"'s\", 232)\n",
        "(u'that', 169)\n",
        "(u'you', 155)\n",
        "(u'be', 132)\n",
        "\n",
        "May 6 to May 7 fallers:\n",
        "(u']', -176)"
       ]
      },
      {
       "output_type": "stream",
       "stream": "stdout",
       "text": [
        "\n",
        "(u'[', -177)\n",
        "(u'i', -191)\n",
        "(u'.', -237)\n",
        "(u'the', -2417)\n",
        "\n",
        "May 7 to May 8 risers:\n",
        "(u'fuck', 1988)"
       ]
      },
      {
       "output_type": "stream",
       "stream": "stdout",
       "text": [
        "\n",
        "(u':', 171)\n",
        "(u'...', 84)\n",
        "(u'?', 84)\n",
        "(u'-', 79)\n",
        "\n",
        "May 7 to May 8 fallers:\n",
        "(u'is', -224)"
       ]
      },
      {
       "output_type": "stream",
       "stream": "stdout",
       "text": [
        "\n",
        "(u'to', -231)\n",
        "(u'or', -231)\n",
        "(u'the', -265)\n",
        "(u'a', -318)\n",
        "\n",
        "May 8 to May 9 risers:\n",
        "(u'doyouknowhowtoramit', 478)"
       ]
      },
      {
       "output_type": "stream",
       "stream": "stdout",
       "text": [
        "\n",
        "(u'democracy', 35)\n",
        "(u'america', 25)\n",
        "(u'^', 22)\n",
        "(u'bug', 21)\n",
        "\n",
        "May 8 to May 9 fallers:\n",
        "(u'to', -2190)"
       ]
      },
      {
       "output_type": "stream",
       "stream": "stdout",
       "text": [
        "\n",
        "(u'i', -2495)\n",
        "(u'the', -3145)\n",
        "(u',', -3421)\n",
        "(u'.', -4388)\n",
        "\n",
        "May 9 to May 10 risers:\n",
        "(u'.', 1118)"
       ]
      },
      {
       "output_type": "stream",
       "stream": "stdout",
       "text": [
        "\n",
        "(u',', 753)\n",
        "(u'the', 638)\n",
        "(u'a', 508)\n",
        "(u'i', 476)\n",
        "\n",
        "May 9 to May 10 fallers:\n",
        "(u'#', -46)"
       ]
      },
      {
       "output_type": "stream",
       "stream": "stdout",
       "text": [
        "\n",
        "(u'my', -50)\n",
        "(u'had', -64)\n",
        "(u'fuck', -75)\n",
        "(u'doyouknowhowtoramit', -478)\n"
       ]
      }
     ],
     "prompt_number": 60
    },
    {
     "cell_type": "markdown",
     "metadata": {},
     "source": [
      "<h3>Linear, frequency version:</h3>"
     ]
    },
    {
     "cell_type": "code",
     "collapsed": false,
     "input": [
      "daily_freqs = []\n",
      "for counts in daily_counts:\n",
      "    normalizer = sum(counts.values())\n",
      "    print(normalizer, end=' ')\n",
      "    freqs = {word : float(value)/normalizer for word, value in counts.items()}\n",
      "    daily_freqs.append(freqs)"
     ],
     "language": "python",
     "metadata": {},
     "outputs": [
      {
       "output_type": "stream",
       "stream": "stdout",
       "text": [
        "320176 256457"
       ]
      },
      {
       "output_type": "stream",
       "stream": "stdout",
       "text": [
        " 256889"
       ]
      },
      {
       "output_type": "stream",
       "stream": "stdout",
       "text": [
        " 351660"
       ]
      },
      {
       "output_type": "stream",
       "stream": "stdout",
       "text": [
        " 352750"
       ]
      },
      {
       "output_type": "stream",
       "stream": "stdout",
       "text": [
        " 358589"
       ]
      },
      {
       "output_type": "stream",
       "stream": "stdout",
       "text": [
        " 355047"
       ]
      },
      {
       "output_type": "stream",
       "stream": "stdout",
       "text": [
        " 347341"
       ]
      },
      {
       "output_type": "stream",
       "stream": "stdout",
       "text": [
        " 253349"
       ]
      },
      {
       "output_type": "stream",
       "stream": "stdout",
       "text": [
        " 273132"
       ]
      },
      {
       "output_type": "stream",
       "stream": "stdout",
       "text": [
        " 343773"
       ]
      },
      {
       "output_type": "stream",
       "stream": "stdout",
       "text": [
        " 329321"
       ]
      },
      {
       "output_type": "stream",
       "stream": "stdout",
       "text": [
        " 354533"
       ]
      },
      {
       "output_type": "stream",
       "stream": "stdout",
       "text": [
        " 350547"
       ]
      },
      {
       "output_type": "stream",
       "stream": "stdout",
       "text": [
        " 326886"
       ]
      },
      {
       "output_type": "stream",
       "stream": "stdout",
       "text": [
        " 262876"
       ]
      },
      {
       "output_type": "stream",
       "stream": "stdout",
       "text": [
        " 277696"
       ]
      },
      {
       "output_type": "stream",
       "stream": "stdout",
       "text": [
        " 336374"
       ]
      },
      {
       "output_type": "stream",
       "stream": "stdout",
       "text": [
        " 349808"
       ]
      },
      {
       "output_type": "stream",
       "stream": "stdout",
       "text": [
        " 353978"
       ]
      },
      {
       "output_type": "stream",
       "stream": "stdout",
       "text": [
        " 336617"
       ]
      },
      {
       "output_type": "stream",
       "stream": "stdout",
       "text": [
        " 309792"
       ]
      },
      {
       "output_type": "stream",
       "stream": "stdout",
       "text": [
        " 253120"
       ]
      },
      {
       "output_type": "stream",
       "stream": "stdout",
       "text": [
        " 258460"
       ]
      },
      {
       "output_type": "stream",
       "stream": "stdout",
       "text": [
        " 305825"
       ]
      },
      {
       "output_type": "stream",
       "stream": "stdout",
       "text": [
        " 367951"
       ]
      },
      {
       "output_type": "stream",
       "stream": "stdout",
       "text": [
        " 368043"
       ]
      },
      {
       "output_type": "stream",
       "stream": "stdout",
       "text": [
        " 366975"
       ]
      },
      {
       "output_type": "stream",
       "stream": "stdout",
       "text": [
        " 361157"
       ]
      },
      {
       "output_type": "stream",
       "stream": "stdout",
       "text": [
        " 285780"
       ]
      },
      {
       "output_type": "stream",
       "stream": "stdout",
       "text": [
        " 286200"
       ]
      },
      {
       "output_type": "stream",
       "stream": "stdout",
       "text": [
        " "
       ]
      }
     ],
     "prompt_number": 17
    },
    {
     "cell_type": "code",
     "collapsed": false,
     "input": [
      "print([freqs[','] for freqs in daily_freqs])"
     ],
     "language": "python",
     "metadata": {},
     "outputs": [
      {
       "output_type": "stream",
       "stream": "stdout",
       "text": [
        "[0.03056756284043776, 0.02984905851663242, 0.031048429477322892, 0.031499175339816866, 0.03192062367115521, 0.0312084308219159, 0.03139021031018428, 0.03208662380772785, 0.030487588267567662, 0.031036275500490606, 0.030808120474848228, 0.03059325096182752, 0.031181864593704957, 0.030971595820246643, 0.03124636723506054, 0.031509152604269695, 0.02970874625489744, 0.030703918852229957, 0.03084263367332937, 0.031414381684737466, 0.03015296315991171, 0.031382346864993284, 0.031573957016434895, 0.031053161030720422, 0.031763263304177225, 0.03140635573758462, 0.0314664319114886, 0.03130730976224538, 0.030175242346126476, 0.0303485198404367, 0.030866526904262753]\n"
       ]
      }
     ],
     "prompt_number": 18
    },
    {
     "cell_type": "code",
     "collapsed": false,
     "input": [
      "dc_freqdiff = make_differences(daily_freqs)"
     ],
     "language": "python",
     "metadata": {},
     "outputs": [
      {
       "output_type": "stream",
       "stream": "stdout",
       "text": [
        "0 1"
       ]
      },
      {
       "output_type": "stream",
       "stream": "stdout",
       "text": [
        " 2"
       ]
      },
      {
       "output_type": "stream",
       "stream": "stdout",
       "text": [
        " 3"
       ]
      },
      {
       "output_type": "stream",
       "stream": "stdout",
       "text": [
        " 4"
       ]
      },
      {
       "output_type": "stream",
       "stream": "stdout",
       "text": [
        " 5"
       ]
      },
      {
       "output_type": "stream",
       "stream": "stdout",
       "text": [
        " 6"
       ]
      },
      {
       "output_type": "stream",
       "stream": "stdout",
       "text": [
        " 7"
       ]
      },
      {
       "output_type": "stream",
       "stream": "stdout",
       "text": [
        " 8"
       ]
      },
      {
       "output_type": "stream",
       "stream": "stdout",
       "text": [
        " 9"
       ]
      },
      {
       "output_type": "stream",
       "stream": "stdout",
       "text": [
        " 10"
       ]
      },
      {
       "output_type": "stream",
       "stream": "stdout",
       "text": [
        " 11"
       ]
      },
      {
       "output_type": "stream",
       "stream": "stdout",
       "text": [
        " 12"
       ]
      },
      {
       "output_type": "stream",
       "stream": "stdout",
       "text": [
        " 13"
       ]
      },
      {
       "output_type": "stream",
       "stream": "stdout",
       "text": [
        " 14"
       ]
      },
      {
       "output_type": "stream",
       "stream": "stdout",
       "text": [
        " 15"
       ]
      },
      {
       "output_type": "stream",
       "stream": "stdout",
       "text": [
        " 16"
       ]
      },
      {
       "output_type": "stream",
       "stream": "stdout",
       "text": [
        " 17"
       ]
      },
      {
       "output_type": "stream",
       "stream": "stdout",
       "text": [
        " 18"
       ]
      },
      {
       "output_type": "stream",
       "stream": "stdout",
       "text": [
        " 19"
       ]
      },
      {
       "output_type": "stream",
       "stream": "stdout",
       "text": [
        " 20"
       ]
      },
      {
       "output_type": "stream",
       "stream": "stdout",
       "text": [
        " 21"
       ]
      },
      {
       "output_type": "stream",
       "stream": "stdout",
       "text": [
        " 22"
       ]
      },
      {
       "output_type": "stream",
       "stream": "stdout",
       "text": [
        " 23"
       ]
      },
      {
       "output_type": "stream",
       "stream": "stdout",
       "text": [
        " 24"
       ]
      },
      {
       "output_type": "stream",
       "stream": "stdout",
       "text": [
        " 25"
       ]
      },
      {
       "output_type": "stream",
       "stream": "stdout",
       "text": [
        " 26"
       ]
      },
      {
       "output_type": "stream",
       "stream": "stdout",
       "text": [
        " 27"
       ]
      },
      {
       "output_type": "stream",
       "stream": "stdout",
       "text": [
        " 28"
       ]
      },
      {
       "output_type": "stream",
       "stream": "stdout",
       "text": [
        " 29"
       ]
      },
      {
       "output_type": "stream",
       "stream": "stdout",
       "text": [
        " "
       ]
      }
     ],
     "prompt_number": 19
    },
    {
     "cell_type": "code",
     "collapsed": false,
     "input": [
      "print([freqdiffs[','] for freqdiffs in dc_freqdiff])"
     ],
     "language": "python",
     "metadata": {},
     "outputs": [
      {
       "output_type": "stream",
       "stream": "stdout",
       "text": [
        "[-0.0007185043238053419, 0.0011993709606904733, 0.00045074586249397447, 0.00042144833133834353, -0.0007121928492393112, 0.00018177948826838403, 0.0006964134975435687, -0.0015990355401601895, 0.0005486872329229439, -0.00022815502564237783, -0.00021486951302070872, 0.0005886136318774375, -0.00021026877345831432, 0.00027477141481389855, 0.0002627853692091543, -0.0018004063493722543, 0.0009951725973325158, 0.00013871482109941227, 0.0005717480114080971, -0.001261418524825756, 0.0012293837050815735, 0.00019161015144161103, -0.0005207959857144728, 0.000710102273456803, -0.00035690756659260275, 6.007617390398068e-05, -0.0001591221492432196, -0.0011320674161189072, 0.00017327749431022416, 0.000518007063826053]\n"
       ]
      }
     ],
     "prompt_number": 20
    },
    {
     "cell_type": "code",
     "collapsed": false,
     "input": [
      "#now it seems like the random noise from common \"words\" is taking over. Logs should help with this\n",
      "#another suggestion: remove stopwords and non-alphanumeric words\n",
      "print_trends(dc_freqdiff, per_day=10, end_day=5)"
     ],
     "language": "python",
     "metadata": {},
     "outputs": [
      {
       "ename": "NameError",
       "evalue": "name 'dc_freqdiff' is not defined",
       "output_type": "pyerr",
       "traceback": [
        "\u001b[0;31m---------------------------------------------------------------------------\u001b[0m\n\u001b[0;31mNameError\u001b[0m                                 Traceback (most recent call last)",
        "\u001b[0;32m<ipython-input-20-9a3cd8d73dc6>\u001b[0m in \u001b[0;36m<module>\u001b[0;34m()\u001b[0m\n\u001b[1;32m      1\u001b[0m \u001b[0;31m#now it seems like the random noise from common \"words\" is taking over. Logs should help with this\u001b[0m\u001b[0;34m\u001b[0m\u001b[0;34m\u001b[0m\u001b[0m\n\u001b[1;32m      2\u001b[0m \u001b[0;31m#another suggestion: remove stopwords and non-alphanumeric words\u001b[0m\u001b[0;34m\u001b[0m\u001b[0;34m\u001b[0m\u001b[0m\n\u001b[0;32m----> 3\u001b[0;31m \u001b[0mprint_trends\u001b[0m\u001b[0;34m(\u001b[0m\u001b[0mdc_freqdiff\u001b[0m\u001b[0;34m,\u001b[0m \u001b[0mper_day\u001b[0m\u001b[0;34m=\u001b[0m\u001b[0;36m10\u001b[0m\u001b[0;34m,\u001b[0m \u001b[0mend_day\u001b[0m\u001b[0;34m=\u001b[0m\u001b[0;36m5\u001b[0m\u001b[0;34m)\u001b[0m\u001b[0;34m\u001b[0m\u001b[0m\n\u001b[0m",
        "\u001b[0;31mNameError\u001b[0m: name 'dc_freqdiff' is not defined"
       ]
      }
     ],
     "prompt_number": 20
    },
    {
     "cell_type": "markdown",
     "metadata": {},
     "source": [
      "<h3>Logarithmic, count:</h3>"
     ]
    },
    {
     "cell_type": "code",
     "collapsed": false,
     "input": [
      "#On a logarithmic scale, a doubling of \"the\" will show up as the same difference as a doubling of \"pacquiao\"\n",
      "daily_logcounts = []\n",
      "for counts in daily_counts:\n",
      "    logcounts = {word : np.log(value+1) for word, value in counts.items()}\n",
      "    daily_logcounts.append(logcounts)\n",
      "    print('x', end=' ')"
     ],
     "language": "python",
     "metadata": {},
     "outputs": [
      {
       "output_type": "stream",
       "stream": "stdout",
       "text": [
        "x x"
       ]
      },
      {
       "output_type": "stream",
       "stream": "stdout",
       "text": [
        " x"
       ]
      },
      {
       "output_type": "stream",
       "stream": "stdout",
       "text": [
        " x"
       ]
      },
      {
       "output_type": "stream",
       "stream": "stdout",
       "text": [
        " x"
       ]
      },
      {
       "output_type": "stream",
       "stream": "stdout",
       "text": [
        " x"
       ]
      },
      {
       "output_type": "stream",
       "stream": "stdout",
       "text": [
        " x"
       ]
      },
      {
       "output_type": "stream",
       "stream": "stdout",
       "text": [
        " x"
       ]
      },
      {
       "output_type": "stream",
       "stream": "stdout",
       "text": [
        " x"
       ]
      },
      {
       "output_type": "stream",
       "stream": "stdout",
       "text": [
        " x"
       ]
      },
      {
       "output_type": "stream",
       "stream": "stdout",
       "text": [
        " x"
       ]
      },
      {
       "output_type": "stream",
       "stream": "stdout",
       "text": [
        " x"
       ]
      },
      {
       "output_type": "stream",
       "stream": "stdout",
       "text": [
        " x"
       ]
      },
      {
       "output_type": "stream",
       "stream": "stdout",
       "text": [
        " x"
       ]
      },
      {
       "output_type": "stream",
       "stream": "stdout",
       "text": [
        " x"
       ]
      },
      {
       "output_type": "stream",
       "stream": "stdout",
       "text": [
        " x"
       ]
      },
      {
       "output_type": "stream",
       "stream": "stdout",
       "text": [
        " x"
       ]
      },
      {
       "output_type": "stream",
       "stream": "stdout",
       "text": [
        " x"
       ]
      },
      {
       "output_type": "stream",
       "stream": "stdout",
       "text": [
        " x"
       ]
      },
      {
       "output_type": "stream",
       "stream": "stdout",
       "text": [
        " x"
       ]
      },
      {
       "output_type": "stream",
       "stream": "stdout",
       "text": [
        " x"
       ]
      },
      {
       "output_type": "stream",
       "stream": "stdout",
       "text": [
        " x"
       ]
      },
      {
       "output_type": "stream",
       "stream": "stdout",
       "text": [
        " x"
       ]
      },
      {
       "output_type": "stream",
       "stream": "stdout",
       "text": [
        " x"
       ]
      },
      {
       "output_type": "stream",
       "stream": "stdout",
       "text": [
        " x"
       ]
      },
      {
       "output_type": "stream",
       "stream": "stdout",
       "text": [
        " x"
       ]
      },
      {
       "output_type": "stream",
       "stream": "stdout",
       "text": [
        " x"
       ]
      },
      {
       "output_type": "stream",
       "stream": "stdout",
       "text": [
        " x"
       ]
      },
      {
       "output_type": "stream",
       "stream": "stdout",
       "text": [
        " x"
       ]
      },
      {
       "output_type": "stream",
       "stream": "stdout",
       "text": [
        " x"
       ]
      },
      {
       "output_type": "stream",
       "stream": "stdout",
       "text": [
        " x"
       ]
      },
      {
       "output_type": "stream",
       "stream": "stdout",
       "text": [
        " "
       ]
      }
     ],
     "prompt_number": 7
    },
    {
     "cell_type": "code",
     "collapsed": false,
     "input": [
      "print([logcounts[','] for logcounts in daily_logcounts])"
     ],
     "language": "python",
     "metadata": {},
     "outputs": [
      {
       "output_type": "stream",
       "stream": "stdout",
       "text": [
        "[9.1889124245625631, 8.9432449331327906, 8.9843176799111291, 9.3127164385930499, 9.3291007076970249, 9.3229545163453178, 9.3188359681294823, 9.3188359681294823, 8.952217101765946, 9.0452298519125822, 9.2678542781767899, 9.2179116374725005, 9.3107285460074518, 9.2926574144653973, 9.2316125072517217, 9.0220812225154745, 9.0180896841043428, 9.2427107520066336, 9.2863750582521796, 9.3165904918188414, 9.225327501784431, 9.1822494918096567, 8.9863214376260192, 8.9905661381315767, 9.1814263618115408, 9.3550465929754409, 9.3572074477857345, 9.3492323708428007, 9.2964263208893119, 9.0680853243953123, 9.0864763847537962]\n"
       ]
      }
     ],
     "prompt_number": 12
    },
    {
     "cell_type": "code",
     "collapsed": false,
     "input": [
      "dlc_diff = make_differences(daily_logcounts)"
     ],
     "language": "python",
     "metadata": {},
     "outputs": [
      {
       "output_type": "stream",
       "stream": "stdout",
       "text": [
        "0 1"
       ]
      },
      {
       "output_type": "stream",
       "stream": "stdout",
       "text": [
        " 2"
       ]
      },
      {
       "output_type": "stream",
       "stream": "stdout",
       "text": [
        " 3"
       ]
      },
      {
       "output_type": "stream",
       "stream": "stdout",
       "text": [
        " 4"
       ]
      },
      {
       "output_type": "stream",
       "stream": "stdout",
       "text": [
        " 5"
       ]
      },
      {
       "output_type": "stream",
       "stream": "stdout",
       "text": [
        " 6"
       ]
      },
      {
       "output_type": "stream",
       "stream": "stdout",
       "text": [
        " 7"
       ]
      },
      {
       "output_type": "stream",
       "stream": "stdout",
       "text": [
        " 8"
       ]
      },
      {
       "output_type": "stream",
       "stream": "stdout",
       "text": [
        " 9"
       ]
      },
      {
       "output_type": "stream",
       "stream": "stdout",
       "text": [
        " 10"
       ]
      },
      {
       "output_type": "stream",
       "stream": "stdout",
       "text": [
        " 11"
       ]
      },
      {
       "output_type": "stream",
       "stream": "stdout",
       "text": [
        " 12"
       ]
      },
      {
       "output_type": "stream",
       "stream": "stdout",
       "text": [
        " 13"
       ]
      },
      {
       "output_type": "stream",
       "stream": "stdout",
       "text": [
        " 14"
       ]
      },
      {
       "output_type": "stream",
       "stream": "stdout",
       "text": [
        " 15"
       ]
      },
      {
       "output_type": "stream",
       "stream": "stdout",
       "text": [
        " 16"
       ]
      },
      {
       "output_type": "stream",
       "stream": "stdout",
       "text": [
        " 17"
       ]
      },
      {
       "output_type": "stream",
       "stream": "stdout",
       "text": [
        " 18"
       ]
      },
      {
       "output_type": "stream",
       "stream": "stdout",
       "text": [
        " 19"
       ]
      },
      {
       "output_type": "stream",
       "stream": "stdout",
       "text": [
        " 20"
       ]
      },
      {
       "output_type": "stream",
       "stream": "stdout",
       "text": [
        " 21"
       ]
      },
      {
       "output_type": "stream",
       "stream": "stdout",
       "text": [
        " 22"
       ]
      },
      {
       "output_type": "stream",
       "stream": "stdout",
       "text": [
        " 23"
       ]
      },
      {
       "output_type": "stream",
       "stream": "stdout",
       "text": [
        " 24"
       ]
      },
      {
       "output_type": "stream",
       "stream": "stdout",
       "text": [
        " 25"
       ]
      },
      {
       "output_type": "stream",
       "stream": "stdout",
       "text": [
        " 26"
       ]
      },
      {
       "output_type": "stream",
       "stream": "stdout",
       "text": [
        " 27"
       ]
      },
      {
       "output_type": "stream",
       "stream": "stdout",
       "text": [
        " 28"
       ]
      },
      {
       "output_type": "stream",
       "stream": "stdout",
       "text": [
        " 29"
       ]
      },
      {
       "output_type": "stream",
       "stream": "stdout",
       "text": [
        " "
       ]
      }
     ],
     "prompt_number": 13
    },
    {
     "cell_type": "code",
     "collapsed": false,
     "input": [
      "print([counts['slipcover'] for counts in daily_counts])\n",
      "print([logcounts['slipcover'] for logcounts in daily_logcounts])\n",
      "print([lc_diff['slipcover'] for lc_diff in dlc_diff])"
     ],
     "language": "python",
     "metadata": {},
     "outputs": [
      {
       "output_type": "stream",
       "stream": "stdout",
       "text": [
        "[0, 19, 0, 0, 0, 1, 0, 0, 0, 0, 0, 0, 0, 0, 0, 0, 0, 0, 0, 0, 0, 0, 0, 0, 0, 0, 0, 0, 0, 0, 0]\n",
        "[0.0, 2.9957322735539909, 0.0, 0.0, 0.0, 0.69314718055994529, 0.0, 0.0, 0.0, 0.0, 0.0, 0.0, 0.0, 0.0, 0.0, 0.0, 0.0, 0.0, 0.0, 0.0, 0.0, 0.0, 0.0, 0.0, 0.0, 0.0, 0.0, 0.0, 0.0, 0.0, 0.0]\n",
        "[2.9957322735539909, -2.9957322735539909, 0.0, 0.0, 0.69314718055994529, -0.69314718055994529, 0.0, 0.0, 0.0, 0.0, 0.0, 0.0, 0.0, 0.0, 0.0, 0.0, 0.0, 0.0, 0.0, 0.0, 0.0, 0.0, 0.0, 0.0, 0.0, 0.0, 0.0, 0.0, 0.0, 0.0]\n"
       ]
      }
     ],
     "prompt_number": 21
    },
    {
     "cell_type": "code",
     "collapsed": false,
     "input": [
      "#Bingo!\n",
      "#Another suggestion: the counts shouldn't be completely irrelevant. Because of noise, 15 to 90\n",
      "#is more important than 1 to 10\n",
      "#Perhaps this is already done in some sense since the calculation would end up looking at 16 to 91 vs 2 to 11:\n",
      "#np.log(count+lambda) lambda is a sort of regularization\n",
      "print_trends(dlc_diff, per_day=10, show_fallers=False)"
     ],
     "language": "python",
     "metadata": {},
     "outputs": [
      {
       "output_type": "stream",
       "stream": "stdout",
       "text": [
        "\n",
        "May 1 to May 2 risers:\n",
        "(u'//mayweather-vs-pacquiao-livestream.com/', 4.3694478524670215)"
       ]
      },
      {
       "output_type": "stream",
       "stream": "stdout",
       "text": [
        "\n",
        "(u'pacquiao', 3.2708355637989115)\n",
        "(u'1d50', 3.1780538303479458)\n",
        "(u'slipcover', 2.9957322735539909)\n",
        "(u'xxxxxxxx', 2.9444389791664403)\n",
        "(u'ethnic', 2.8903717578961645)\n",
        "(u'mayweather', 2.8332133440562162)\n",
        "(u'fov', 2.6390573296152584)\n",
        "(u'w/', 2.5649493574615367)\n",
        "(u'wollongong', 2.4849066497880004)\n",
        "\n",
        "May 2 to May 3 risers:\n",
        "(u'lefty', 2.8332133440562162)"
       ]
      },
      {
       "output_type": "stream",
       "stream": "stdout",
       "text": [
        "\n",
        "(u'boxing', 2.6026896854443842)\n",
        "(u'mang', 2.5649493574615367)\n",
        "(u'punches', 2.4423470353692043)\n",
        "(u'2015-05-03', 2.3978952727983707)\n",
        "(u'jab', 2.3978952727983707)\n",
        "(u'hbo', 2.3978952727983707)\n",
        "(u'cp3', 2.3978952727983707)\n",
        "(u'wither', 2.3025850929940459)\n",
        "(u'manny', 2.224623551524334)\n",
        "\n",
        "May 3 to May 4 risers:\n",
        "(u'sarum', 4.6913478822291435)"
       ]
      },
      {
       "output_type": "stream",
       "stream": "stdout",
       "text": [
        "\n",
        "(u'//boostwit.com/icehockey/', 3.713572066704308)\n",
        "(u'-**', 3.1354942159291497)\n",
        "(u'==', 3.044522437723423)\n",
        "(u'**round', 2.9444389791664403)\n",
        "(u'terry', 2.8903717578961645)\n",
        "(u'deficit', 2.8332133440562162)\n",
        "(u'streaming', 2.7515353130419484)\n",
        "(u'rangers', 2.7300291078209851)\n",
        "(u'mobilization', 2.6390573296152584)\n",
        "\n",
        "May 4 to May 5 risers:\n",
        "(u'hitter', 3.4339872044851463)"
       ]
      },
      {
       "output_type": "stream",
       "stream": "stdout",
       "text": [
        "\n",
        "(u'mg', 3.3672958299864741)\n",
        "(u'pulque', 2.8903717578961645)\n",
        "(u'lily', 2.7725887222397811)\n",
        "(u'252', 2.7725887222397811)\n",
        "(u'vermont', 2.7080502011022101)\n",
        "(u'progressive', 2.7080502011022101)\n",
        "(u'chloroform', 2.7080502011022101)\n",
        "(u'quantum', 2.7080502011022101)\n",
        "(u'sami', 2.6390573296152584)\n",
        "\n",
        "May 5 to May 6 risers:\n",
        "(u'd0', 3.2958368660043291)"
       ]
      },
      {
       "output_type": "stream",
       "stream": "stdout",
       "text": [
        "\n",
        "(u'dutch', 2.8332133440562162)\n",
        "(u'carpace', 2.4849066497880004)\n",
        "(u't2', 2.4849066497880004)\n",
        "(u'253a', 2.4849066497880004)\n",
        "(u'gm', 2.4849066497880004)\n",
        "(u'battletoads', 2.4849066497880004)\n",
        "(u'entropy', 2.4849066497880004)\n",
        "(u'ndp', 2.4423470353692043)\n",
        "(u'controlled', 2.3978952727983707)\n",
        "\n",
        "May 6 to May 7 risers:\n",
        "(u'investigation', 2.8332133440562162)"
       ]
      },
      {
       "output_type": "stream",
       "stream": "stdout",
       "text": [
        "\n",
        "(u'uncle', 2.8332133440562162)\n",
        "(u'27solaito', 2.8332133440562162)\n",
        "(u'mda', 2.7080502011022101)\n",
        "(u'sofia', 2.5649493574615367)\n",
        "(u'ascended', 2.5649493574615367)\n",
        "(u'subsection', 2.4849066497880004)\n",
        "(u'offences', 2.4849066497880004)\n",
        "(u'\\u0438', 2.4849066497880004)\n",
        "(u'succeed', 2.3978952727983707)\n",
        "\n",
        "May 7 to May 8 risers:\n",
        "(u'//www.haggadot.com/clip/chicago-bulls-versus-cleveland-cavaliers-live', 3.3322045101752038)"
       ]
      },
      {
       "output_type": "stream",
       "stream": "stdout",
       "text": [
        "\n",
        "(u'5iv', 2.8903717578961645)\n",
        "(u'unweary', 2.7080502011022101)\n",
        "(u'legolas', 2.7080502011022101)\n",
        "(u'\\xa31', 2.6390573296152584)\n",
        "(u'carbon', 2.6390573296152584)\n",
        "(u'fuck', 2.5799379284609678)\n",
        "(u'/r/swtor/wiki/returning_player', 2.5649493574615367)\n",
        "(u'scottish', 2.5649493574615367)\n",
        "(u'thatcher', 2.4849066497880004)\n",
        "\n",
        "May 8 to May 9 risers:\n",
        "(u'doyouknowhowtoramit', 6.1717005974109149)"
       ]
      },
      {
       "output_type": "stream",
       "stream": "stdout",
       "text": [
        "\n",
        "(u'p.', 2.4849066497880004)\n",
        "(u'macpherson', 2.3025850929940459)\n",
        "(u'cloth', 2.3025850929940459)\n",
        "(u'newegg', 2.1972245773362196)\n",
        "(u'mba', 2.1972245773362196)\n",
        "(u'20colossus', 2.1972245773362196)\n",
        "(u'speakers', 2.1972245773362196)\n",
        "(u'jews', 2.1972245773362196)\n",
        "(u'purchasing', 2.1972245773362196)\n",
        "\n",
        "May 9 to May 10 risers:\n",
        "(u'aura', 3.3672958299864741)"
       ]
      },
      {
       "output_type": "stream",
       "stream": "stdout",
       "text": [
        "\n",
        "(u'daboyu', 3.3672958299864741)\n",
        "(u'//gsalr.com/streaming-queens-park-rangers-atlanta-ga-22705873.html', 3.044522437723423)\n",
        "(u'640', 2.9444389791664403)\n",
        "(u'circumcision', 2.8332133440562162)\n",
        "(u'makeup', 2.6390573296152584)\n",
        "(u'hunters', 2.6390573296152584)\n",
        "(u'bondage', 2.6390573296152584)\n",
        "(u'gw', 2.5649493574615367)\n",
        "(u'sec', 2.4849066497880004)\n",
        "\n",
        "May 10 to May 11 risers:\n",
        "(u'//tantegenit.info/index.php', 3.7612001156935624)"
       ]
      },
      {
       "output_type": "stream",
       "stream": "stdout",
       "text": [
        "\n",
        "(u'und', 3.1354942159291497)\n",
        "(u'movie=2395427', 3.0910424533583161)\n",
        "(u'movie=2967224', 3.0910424533583161)\n",
        "(u'evolution', 2.9957322735539909)\n",
        "(u'lebanese', 2.9957322735539909)\n",
        "(u'mit', 2.9444389791664403)\n",
        "(u'auf', 2.8903717578961645)\n",
        "(u'20the', 2.8332133440562162)\n",
        "(u'als', 2.8332133440562162)\n",
        "\n",
        "May 11 to May 12 risers:\n",
        "(u'//www.forgrams.com/hdtv-bayern-munich-vs-barcelona-livewatchuefatvcovaregemore-info', 3.6375861597263857)"
       ]
      },
      {
       "output_type": "stream",
       "stream": "stdout",
       "text": [
        "\n",
        "(u'xxxxxxx', 3.2958368660043291)\n",
        "(u'luhan', 3.1354942159291497)\n",
        "(u'**q.', 3.0910424533583161)\n",
        "(u'pg', 2.9444389791664403)\n",
        "(u'rhino', 2.9444389791664403)\n",
        "(u'xxxxxxxx', 2.8903717578961645)\n",
        "(u'ether', 2.8332133440562162)\n",
        "(u'squadron', 2.8332133440562162)\n",
        "(u'\\u2013', 2.7080502011022101)\n",
        "\n",
        "May 12 to May 13 risers:\n",
        "(u'bam', 4.9199809258281242)"
       ]
      },
      {
       "output_type": "stream",
       "stream": "stdout",
       "text": [
        "\n",
        "(u'd0', 3.912023005428146)\n",
        "(u'bambam', 3.4011973816621555)\n",
        "(u'grannie', 3.044522437723423)\n",
        "(u'd1', 2.917770732084279)\n",
        "(u'p-', 2.5649493574615367)\n",
        "(u'madrid', 2.5649493574615367)\n",
        "(u'20the', 2.4849066497880004)\n",
        "(u'riot', 2.4423470353692043)\n",
        "(u'mary', 2.3978952727983707)\n",
        "\n",
        "May 13 to May 14 risers:\n",
        "(u'//tvvidzon.blogspot.com/2015/04/watch-avengers-age-of-ultron-online.html', 4.6151205168412597)"
       ]
      },
      {
       "output_type": "stream",
       "stream": "stdout",
       "text": [
        "\n",
        "(u'//renews24.com/avengers-age-of-ultron-full-movie-download-watch-free-online/', 4.0073331852324712)\n",
        "(u'sort=new', 3.4011973816621555)\n",
        "(u'x2f', 3.1354942159291497)\n",
        "(u'27thumbs_of_war', 2.9957322735539909)\n",
        "(u'a=-wvmmaaazlqavlalvpqvaqpwqmpazalqqzpazqwamaavqaazwmlwalapqwzlvwapmmvpwpwpvvmllwampmppzwc_', 2.8903717578961645)\n",
        "(u'//raylehnhoff.github.io/nflschedulepicker/', 2.8903717578961645)\n",
        "(u'xxx', 2.8332133440562162)\n",
        "(u'rect', 2.7725887222397811)\n",
        "(u'xxxxxxxxxxxxxxx', 2.7725887222397811)\n",
        "\n",
        "May 14 to May 15 risers:\n",
        "(u'sort=top', 2.7725887222397811)"
       ]
      },
      {
       "output_type": "stream",
       "stream": "stdout",
       "text": [
        "\n",
        "(u'/r/removedcomments/search', 2.7725887222397811)\n",
        "(u'q=flair', 2.5649493574615367)\n",
        "(u'1v1', 2.4849066497880004)\n",
        "(u'matched', 2.3978952727983707)\n",
        "(u'krav', 2.3978952727983707)\n",
        "(u'greek', 2.3978952727983707)\n",
        "(u'smarter', 2.3978952727983707)\n",
        "(u'atoms', 2.3025850929940459)\n",
        "(u'rushing', 2.3025850929940459)\n",
        "\n",
        "May 15 to May 16 risers:\n",
        "(u'//www.crunchyflicks.com/movie/the-age-of-adaline**', 4.0604430105464191)"
       ]
      },
      {
       "output_type": "stream",
       "stream": "stdout",
       "text": [
        "\n",
        "(u'**click', 4.0604430105464191)\n",
        "(u'jr', 3.8712010109078911)\n",
        "(u'gennady', 3.8286413964890951)\n",
        "(u'**watch', 3.8286413964890951)\n",
        "(u'//watchonlinelivetv.com/boxing//', 3.8286413964890951)\n",
        "(u'willie', 3.8286413964890951)\n",
        "(u'golovkin', 3.8286413964890951)\n",
        "(u'monroe', 3.1354942159291497)\n",
        "(u'wanker', 2.9704144655697009)\n",
        "\n",
        "May 16 to May 17 risers:\n",
        "(u'payback', 3.3672958299864741)"
       ]
      },
      {
       "output_type": "stream",
       "stream": "stdout",
       "text": [
        "\n",
        "(u'//dmmp2p.eu/wwefreetv.html', 3.3672958299864741)\n",
        "(u'type=card', 3.2708355637989115)\n",
        "(u'//gatherer.wizards.com/handlers/image.ashx', 3.2708355637989115)\n",
        "(u'.jpg', 3.2708355637989115)\n",
        "(u'circumstances', 2.5649493574615367)\n",
        "(u'ba', 2.4849066497880004)\n",
        "(u'bdsm', 2.3978952727983707)\n",
        "(u'mms', 2.3978952727983707)\n",
        "(u'parameters', 2.3025850929940459)\n",
        "\n",
        "May 17 to May 18 risers:\n",
        "(u'\\u2611', 4.3307333402863311)"
       ]
      },
      {
       "output_type": "stream",
       "stream": "stdout",
       "text": [
        "\n",
        "(u'27bambipalen', 3.713572066704308)\n",
        "(u'|1|4', 3.5835189384561099)\n",
        "(u'**cunt**', 3.4339872044851463)\n",
        "(u'asoiaf|', 3.4011973816621555)\n",
        "(u'1|', 3.2580965380214821)\n",
        "(u'rekt', 3.2188758248682006)\n",
        "(u'tyrion', 3.0910424533583161)\n",
        "(u'sansa', 2.9957322735539909)\n",
        "(u'il', 2.8903717578961645)\n",
        "\n",
        "May 18 to May 19 risers:\n",
        "(u'***reeeeeeeeeeeeeeeeeeeeeeeeeeeeeeeeeeeeeeeeeeeeeeeeeeeeeee***', 4.3944491546724391)"
       ]
      },
      {
       "output_type": "stream",
       "stream": "stdout",
       "text": [
        "\n",
        "(u'//i.imgur.com/dfh59ft.jpg', 4.3944491546724391)\n",
        "(u'//i.imgur.com/atqtoki.gif', 4.0775374439057197)\n",
        "(u'//tvvidzon.blogspot.com/2015/04/watch-avengers-age-of-ultron-online.html', 3.9318256327243257)\n",
        "(u'|\\u2713', 3.2958368660043291)\n",
        "(u'27psychodrivenmusic', 2.8332133440562162)\n",
        "(u'java', 2.8332133440562162)\n",
        "(u'//isthereanydeal.com/', 2.7725887222397811)\n",
        "(u'ce', 2.7080502011022101)\n",
        "(u'snr=1_7_7_151_150_1', 2.6390573296152584)\n",
        "\n",
        "May 19 to May 20 risers:\n",
        "(u'//www.hltv.org/', 3.5263605246161616)"
       ]
      },
      {
       "output_type": "stream",
       "stream": "stdout",
       "text": [
        "\n",
        "(u'cohen', 2.9444389791664403)\n",
        "(u'permaculture', 2.7725887222397811)\n",
        "(u'\\u2642', 2.6390573296152584)\n",
        "(u'b01', 2.6390573296152584)\n",
        "(u'amaura', 2.6390573296152584)\n",
        "(u'newegg', 2.5649493574615367)\n",
        "(u'superbiiz', 2.5649493574615367)\n",
        "(u'ace', 2.5649493574615367)\n",
        "(u'xxx', 2.5649493574615367)\n",
        "\n",
        "May 20 to May 21 risers:\n",
        "(u'type=card', 4.3040650932041702)"
       ]
      },
      {
       "output_type": "stream",
       "stream": "stdout",
       "text": [
        "\n",
        "(u'//gatherer.wizards.com/handlers/image.ashx', 4.3040650932041702)\n",
        "(u'//expresstvhits.com/2015/05/21/san-andreas-2015/', 3.7612001156935624)\n",
        "(u'.jpg', 3.2451931331855741)\n",
        "(u'27appleftw1', 2.8332133440562162)\n",
        "(u'q=', 2.8332133440562162)\n",
        "(u'c3', 2.8332133440562162)\n",
        "(u'liverpool', 2.7725887222397811)\n",
        "(u'swedish', 2.7725887222397811)\n",
        "(u'norwegian', 2.7080502011022101)\n",
        "\n",
        "May 21 to May 22 risers:\n",
        "(u'**base', 3.6635616461296463)"
       ]
      },
      {
       "output_type": "stream",
       "stream": "stdout",
       "text": [
        "\n",
        "(u'2**', 3.0910424533583161)\n",
        "(u'don\\u2019t', 3.044522437723423)\n",
        "(u'jeg', 2.9957322735539909)\n",
        "(u'1**', 2.9444389791664403)\n",
        "(u'denise', 2.8332133440562162)\n",
        "(u'uncommon', 2.7408400239252009)\n",
        "(u'pulley', 2.6390573296152584)\n",
        "(u'ashe', 2.6390573296152584)\n",
        "(u'cam', 2.4849066497880004)\n",
        "\n",
        "May 22 to May 23 risers:\n",
        "(u'coventry', 3.1354942159291497)"
       ]
      },
      {
       "output_type": "stream",
       "stream": "stdout",
       "text": [
        "\n",
        "(u'concert', 3.1354942159291497)\n",
        "(u'orchestra', 2.9444389791664403)\n",
        "(u'een', 2.8903717578961645)\n",
        "(u'/sp', 2.8903717578961645)\n",
        "(u'het', 2.6390573296152584)\n",
        "(u'/r/millionairemakers', 2.5257286443082552)\n",
        "(u'superbiiz', 2.4849066497880004)\n",
        "(u'opsu', 2.4849066497880004)\n",
        "(u'rvr', 2.3978952727983707)\n",
        "\n",
        "May 23 to May 24 risers:\n",
        "(u'boohoooooo', 5.3659760150218512)"
       ]
      },
      {
       "output_type": "stream",
       "stream": "stdout",
       "text": [
        "\n",
        "(u'//nzmaths.co.nz/plan/nicelivejoy02/enjoy-live-canberra-raiders-vs-canterbury-bulldogs-live-streaming', 3.2580965380214821)\n",
        "(u'\\u0ca0_\\u0ca0', 3.0122615755052013)\n",
        "(u'xx', 2.7080502011022101)\n",
        "(u'curry', 2.7080502011022101)\n",
        "(u'4.', 2.5649493574615367)\n",
        "(u'encyclical', 2.3978952727983707)\n",
        "(u'forecast', 2.3978952727983707)\n",
        "(u'bpd', 2.3978952727983707)\n",
        "(u'pagan', 2.3025850929940459)\n",
        "\n",
        "May 24 to May 25 risers:\n",
        "(u'brush', 2.9444389791664403)"
       ]
      },
      {
       "output_type": "stream",
       "stream": "stdout",
       "text": [
        "\n",
        "(u'una', 2.8903717578961645)\n",
        "(u'maa', 2.8332133440562162)\n",
        "(u'*star', 2.7725887222397811)\n",
        "(u'lo', 2.7408400239252009)\n",
        "(u'tueller', 2.6390573296152584)\n",
        "(u'sparrow', 2.6390573296152584)\n",
        "(u'piter', 2.6390573296152584)\n",
        "(u'cone', 2.6390573296152584)\n",
        "(u'reek', 2.5649493574615367)\n",
        "\n",
        "May 25 to May 26 risers:\n",
        "(u'x2f', 4.4886363697321396)"
       ]
      },
      {
       "output_type": "stream",
       "stream": "stdout",
       "text": [
        "\n",
        "(u'-|', 3.970291913552122)\n",
        "(u'consciousness', 3.3672958299864741)\n",
        "(u'^riot', 3.2188758248682006)\n",
        "(u'*private*', 3.2188758248682006)\n",
        "(u'//www.dotabuff.com/players/4294967295', 3.2188758248682006)\n",
        "(u'^games', 3.044522437723423)\n",
        "(u'type=card', 3.0122615755052013)\n",
        "(u'//gatherer.wizards.com/handlers/image.ashx', 3.0122615755052013)\n",
        "(u'**combined', 2.8903717578961645)\n",
        "\n",
        "May 26 to May 27 risers:\n",
        "(u'**click', 4.8283137373023015)"
       ]
      },
      {
       "output_type": "stream",
       "stream": "stdout",
       "text": [
        "\n",
        "(u'//www.4kmoviehub.com/paul-blart-mall-cop-2-2015**', 4.8202815656050371)\n",
        "(u'tomorrowland', 4.5217885770490405)\n",
        "(u'//gg.gg/tomorrowland-online-free', 4.5108595065168497)\n",
        "(u'free**', 4.5108595065168497)\n",
        "(u'**watch', 4.5108595065168497)\n",
        "(u'//scoate.com/index.php', 4.0430512678345503)\n",
        "(u'**wet**', 3.4657359027997265)\n",
        "(u'asoiaf|', 3.3322045101752038)\n",
        "(u'27levekungen', 3.2188758248682006)\n",
        "\n",
        "May 27 to May 28 risers:\n",
        "(u'//youtube.com/watch', 3.2958368660043291)"
       ]
      },
      {
       "output_type": "stream",
       "stream": "stdout",
       "text": [
        "\n",
        "(u'*dir', 3.1354942159291497)\n",
        "(u'nawalts', 2.9957322735539909)\n",
        "(u'hax', 2.7080502011022101)\n",
        "(u'fiddlesticks', 2.6390573296152584)\n",
        "(u'grub', 2.6390573296152584)\n",
        "(u'context=10000', 2.5649493574615367)\n",
        "(u'snapshots', 2.4849066497880004)\n",
        "(u'//www.notehub.org/2015/4/23/megalodonjp-is-a-japanese-snapshot-site', 2.4849066497880004)\n",
        "(u'slater', 2.3978952727983707)\n",
        "\n",
        "May 28 to May 29 risers:\n",
        "(u'\\u0361\\xb0', 3.8394523125933109)"
       ]
      },
      {
       "output_type": "stream",
       "stream": "stdout",
       "text": [
        "\n",
        "(u'rugby', 3.5263605246161616)\n",
        "(u'xv', 3.4965075614664802)\n",
        "(u'//www.livestreamhdtv.com/rugby-tv', 3.4965075614664802)\n",
        "(u'\\u035c\\u0296', 3.4339872044851463)\n",
        "(u'xxxxxx', 3.1780538303479458)\n",
        "(u'//youtu.be/t1hpbfqnmq4', 2.9444389791664403)\n",
        "(u'helmsman', 2.7725887222397811)\n",
        "(u'xxxxxxxx', 2.6390573296152584)\n",
        "(u'xxxxxxx', 2.5649493574615367)\n",
        "\n",
        "May 29 to May 30 risers:\n",
        "(u'boxing', 4.5951198501345898)"
       ]
      },
      {
       "output_type": "stream",
       "stream": "stdout",
       "text": [
        "\n",
        "(u'//www.livestreamhdtv.com/watch-live-boxing-online', 4.5747109785033828)\n",
        "(u'\\u25c4', 3.1780538303479458)\n",
        "(u'\\u25bc', 3.1354942159291497)\n",
        "(u'\\u25b2', 3.044522437723423)\n",
        "(u'\\u25ba', 2.9957322735539909)\n",
        "(u'27officegimp', 2.7725887222397811)\n",
        "(u'|1|11', 2.6390573296152584)\n",
        "(u'\\uff3c', 2.4849066497880004)\n",
        "(u'//youtube.com/watch', 2.4849066497880004)\n",
        "\n",
        "May 30 to May 31 risers:\n",
        "(u'yylukfhluihuhy', 3.8286413964890951)"
       ]
      },
      {
       "output_type": "stream",
       "stream": "stdout",
       "text": [
        "\n",
        "(u'yyfhulyp', 3.8286413964890951)\n",
        "(u'*y', 3.8286413964890951)\n",
        "(u'y*yrfhyliehfohp0of89yh237fpo*', 3.8066624897703196)\n",
        "(u'//www.hltv.org/', 3.3322045101752038)\n",
        "(u'iq', 2.7725887222397811)\n",
        "(u'fry', 2.6390573296152584)\n",
        "(u'\\ud1a0\\ub80c', 2.4849066497880004)\n",
        "(u'pageid=188', 2.3978952727983707)\n",
        "(u'sarah', 2.3978952727983707)\n"
       ]
      }
     ],
     "prompt_number": 23
    },
    {
     "cell_type": "code",
     "collapsed": false,
     "input": [
      "#A lot of the contexts can be figured out, but it would be nice to be able to quickly see what comments\n",
      "#are making the words trend (this would also presumably help in figuring out gibberish like \"yylukfhluihuhy\")\n",
      "#Also, a similar analysis could be used for noun phrases, for example, instead of just individual words"
     ],
     "language": "python",
     "metadata": {},
     "outputs": []
    }
   ],
   "metadata": {}
  }
 ]
}